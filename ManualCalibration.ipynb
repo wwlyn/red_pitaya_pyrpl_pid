{
 "cells": [
  {
   "cell_type": "markdown",
   "id": "61432955",
   "metadata": {},
   "source": [
    "## Imports and IP"
   ]
  },
  {
   "cell_type": "code",
   "execution_count": null,
   "id": "f061a665",
   "metadata": {},
   "outputs": [],
   "source": [
    "HOSTNAME = \"169.254.138.46\"\n",
    "from pyrpl import Pyrpl\n",
    "import numpy as np"
   ]
  },
  {
   "cell_type": "markdown",
   "id": "95850408",
   "metadata": {},
   "source": [
    "## Connect to RP:\n",
    "Select \"PID.yml\" in the file selector window and wait for GUI to come up before running next cell)"
   ]
  },
  {
   "cell_type": "code",
   "execution_count": null,
   "id": "403c7698",
   "metadata": {
    "scrolled": true
   },
   "outputs": [],
   "source": [
    "p = Pyrpl(hostname=HOSTNAME)"
   ]
  },
  {
   "cell_type": "markdown",
   "id": "f33e0295",
   "metadata": {},
   "source": [
    "## Calibration"
   ]
  },
  {
   "cell_type": "code",
   "execution_count": null,
   "id": "dcfef1cb",
   "metadata": {},
   "outputs": [],
   "source": [
    "# Not connected\n",
    "ZERO_IN1 = p.rp.scope.voltage_in1\n",
    "ZERO_IN1"
   ]
  },
  {
   "cell_type": "code",
   "execution_count": null,
   "id": "79ab703b",
   "metadata": {},
   "outputs": [],
   "source": [
    "# Give in1 0.5V, on LV mode\n",
    "HALF_IN1 = p.rp.scope.voltage_in1\n",
    "HALF_IN1"
   ]
  },
  {
   "cell_type": "code",
   "execution_count": null,
   "id": "d7ec2a4e",
   "metadata": {},
   "outputs": [],
   "source": [
    "# Not connected\n",
    "ZERO_IN2 = p.rp.scope.voltage_in2\n",
    "ZERO_IN2"
   ]
  },
  {
   "cell_type": "code",
   "execution_count": null,
   "id": "ba2ab633",
   "metadata": {},
   "outputs": [],
   "source": [
    "# Give in2 0.5V, on LV mode\n",
    "HALF_IN2 = p.rp.scope.voltage_in2\n",
    "HALF_IN2"
   ]
  },
  {
   "cell_type": "code",
   "execution_count": null,
   "id": "13c5a159",
   "metadata": {},
   "outputs": [],
   "source": [
    "def phy2dig_setpoint_in1(physical_value):\n",
    "    k1 = (HALF_IN1 - ZERO_IN1)/0.5\n",
    "    b1 = ZERO_IN1\n",
    "    return k1 * physical_value + b1\n",
    "\n",
    "def dig2phy_setpoint_in1(digital_value):\n",
    "    k1 = (0.5 - 0.0) / (HALF_IN1 - ZERO_IN1)\n",
    "    b1 = 0.0 - k1 * ZERO_IN1\n",
    "    return k1 * digital_value + b1\n",
    "\n",
    "def phy2dig_setpoint_in2(physical_value):\n",
    "    k2 = (HALF_IN2 - ZERO_IN2)/0.5\n",
    "    b2 = ZERO_IN2\n",
    "    return k2 * physical_value + b2\n",
    "\n",
    "def dig2phy_setpoint_in2(digital_value):\n",
    "    k2 = (0.5 - 0.0) / (HALF_IN2 - ZERO_IN2)\n",
    "    b2 = 0.0 - k2 * ZERO_IN2\n",
    "    return k2 * digital_value + b2"
   ]
  }
 ],
 "metadata": {
  "kernelspec": {
   "display_name": "labscript-env",
   "language": "python",
   "name": "python3"
  },
  "language_info": {
   "codemirror_mode": {
    "name": "ipython",
    "version": 3
   },
   "file_extension": ".py",
   "mimetype": "text/x-python",
   "name": "python",
   "nbconvert_exporter": "python",
   "pygments_lexer": "ipython3",
   "version": "3.9.23"
  },
  "varInspector": {
   "cols": {
    "lenName": 16,
    "lenType": 16,
    "lenVar": 40
   },
   "kernels_config": {
    "python": {
     "delete_cmd_postfix": "",
     "delete_cmd_prefix": "del ",
     "library": "var_list.py",
     "varRefreshCmd": "print(var_dic_list())"
    },
    "r": {
     "delete_cmd_postfix": ") ",
     "delete_cmd_prefix": "rm(",
     "library": "var_list.r",
     "varRefreshCmd": "cat(var_dic_list()) "
    }
   },
   "types_to_exclude": [
    "module",
    "function",
    "builtin_function_or_method",
    "instance",
    "_Feature"
   ],
   "window_display": false
  }
 },
 "nbformat": 4,
 "nbformat_minor": 5
}
