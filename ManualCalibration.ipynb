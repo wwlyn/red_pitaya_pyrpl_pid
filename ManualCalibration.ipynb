{
 "cells": [
  {
   "cell_type": "markdown",
   "id": "61432955",
   "metadata": {},
   "source": [
    "## Imports and IP"
   ]
  },
  {
   "cell_type": "code",
   "execution_count": 8,
   "id": "f061a665",
   "metadata": {},
   "outputs": [],
   "source": [
    "HOSTNAME = \"169.254.138.46\"\n",
    "from pyrpl import Pyrpl\n",
    "import numpy as np"
   ]
  },
  {
   "cell_type": "markdown",
   "id": "95850408",
   "metadata": {},
   "source": [
    "## Connect to RP:\n",
    "Select \"PID.yml\" in the file selector window and wait for GUI to come up before running next cell)"
   ]
  },
  {
   "cell_type": "code",
   "execution_count": 9,
   "id": "403c7698",
   "metadata": {
    "scrolled": true
   },
   "outputs": [
    {
     "name": "stderr",
     "output_type": "stream",
     "text": [
      "INFO:pyrpl:Please select or create a configuration file in the file selector window!\n",
      "INFO:pyrpl:All your PyRPL settings will be saved to the config file\n",
      "    C:/Users/wwlyn/pyrpl_user_dir/config\\090201.yml\n",
      "If you would like to restart PyRPL with these settings, type \"pyrpl.exe 090201\" in a windows terminal or \n",
      "    from pyrpl import Pyrpl\n",
      "    p = Pyrpl('090201')\n",
      "in a python terminal.\n",
      "INFO:pyrpl.redpitaya:Successfully connected to Redpitaya with hostname 169.254.138.46.\n"
     ]
    },
    {
     "name": "stdout",
     "output_type": "stream",
     "text": [
      "writing to addr 0x40200008 value 1073741823\n",
      "writing to addr 0x40200028 value 1073741823\n",
      "writing to addr 0x403a0000 value 15\n",
      "writing to addr 0x403b0000 value 15\n",
      "writing to addr 0x40320128 value 8191\n",
      "writing to addr 0x40320124 value 8192\n",
      "writing to addr 0x40320004 value 1\n",
      "writing to addr 0x40360124 value 35209\n",
      "writing to addr 0x40360120 value 195\n",
      "writing to addr 0x4032000c value 255\n",
      "writing to addr 0x40320108 value 0\n",
      "writing to addr 0x4032010c value 0\n",
      "writing to addr 0x40320100 value 0\n",
      "writing to addr 0x40320128 value 8191\n",
      "writing to addr 0x40320124 value 8192\n",
      "writing to addr 0x40320004 value 1\n",
      "writing to addr 0x4032000c value 255\n",
      "writing to addr 0x40360114 value 0\n"
     ]
    }
   ],
   "source": [
    "p = Pyrpl(hostname=HOSTNAME)"
   ]
  },
  {
   "cell_type": "markdown",
   "id": "f33e0295",
   "metadata": {},
   "source": [
    "## Calibration"
   ]
  },
  {
   "cell_type": "code",
   "execution_count": 4,
   "id": "dcfef1cb",
   "metadata": {},
   "outputs": [
    {
     "data": {
      "text/plain": [
       "-0.011962890625"
      ]
     },
     "execution_count": 4,
     "metadata": {},
     "output_type": "execute_result"
    }
   ],
   "source": [
    "# Not connected\n",
    "ZERO_IN1 = p.rp.scope.voltage_in1\n",
    "ZERO_IN1"
   ]
  },
  {
   "cell_type": "code",
   "execution_count": 6,
   "id": "79ab703b",
   "metadata": {},
   "outputs": [
    {
     "data": {
      "text/plain": [
       "0.42919921875"
      ]
     },
     "execution_count": 6,
     "metadata": {},
     "output_type": "execute_result"
    },
    {
     "name": "stderr",
     "output_type": "stream",
     "text": [
      "ERROR:paramiko.transport:Socket exception: 远程主机强迫关闭了一个现有的连接。 (10054)\n"
     ]
    }
   ],
   "source": [
    "# Give in1 0.5V, on LV mode\n",
    "HALF_IN1 = p.rp.scope.voltage_in1\n",
    "HALF_IN1"
   ]
  },
  {
   "cell_type": "code",
   "execution_count": 5,
   "id": "d7ec2a4e",
   "metadata": {},
   "outputs": [
    {
     "data": {
      "text/plain": [
       "-0.0052490234375"
      ]
     },
     "execution_count": 5,
     "metadata": {},
     "output_type": "execute_result"
    }
   ],
   "source": [
    "# Not connected\n",
    "ZERO_IN2 = p.rp.scope.voltage_in2\n",
    "ZERO_IN2"
   ]
  },
  {
   "cell_type": "code",
   "execution_count": 10,
   "id": "ba2ab633",
   "metadata": {},
   "outputs": [
    {
     "data": {
      "text/plain": [
       "0.43505859375"
      ]
     },
     "execution_count": 10,
     "metadata": {},
     "output_type": "execute_result"
    },
    {
     "name": "stderr",
     "output_type": "stream",
     "text": [
      "ERROR:paramiko.transport:Socket exception: 远程主机强迫关闭了一个现有的连接。 (10054)\n"
     ]
    }
   ],
   "source": [
    "# Give in2 0.5V, on LV mode\n",
    "HALF_IN2 = p.rp.scope.voltage_in2\n",
    "HALF_IN2"
   ]
  },
  {
   "cell_type": "code",
   "execution_count": null,
   "id": "13c5a159",
   "metadata": {},
   "outputs": [],
   "source": []
  }
 ],
 "metadata": {
  "kernelspec": {
   "display_name": "labscript-env",
   "language": "python",
   "name": "python3"
  },
  "language_info": {
   "codemirror_mode": {
    "name": "ipython",
    "version": 3
   },
   "file_extension": ".py",
   "mimetype": "text/x-python",
   "name": "python",
   "nbconvert_exporter": "python",
   "pygments_lexer": "ipython3",
   "version": "3.9.23"
  },
  "varInspector": {
   "cols": {
    "lenName": 16,
    "lenType": 16,
    "lenVar": 40
   },
   "kernels_config": {
    "python": {
     "delete_cmd_postfix": "",
     "delete_cmd_prefix": "del ",
     "library": "var_list.py",
     "varRefreshCmd": "print(var_dic_list())"
    },
    "r": {
     "delete_cmd_postfix": ") ",
     "delete_cmd_prefix": "rm(",
     "library": "var_list.r",
     "varRefreshCmd": "cat(var_dic_list()) "
    }
   },
   "types_to_exclude": [
    "module",
    "function",
    "builtin_function_or_method",
    "instance",
    "_Feature"
   ],
   "window_display": false
  }
 },
 "nbformat": 4,
 "nbformat_minor": 5
}
