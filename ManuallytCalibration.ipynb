{
 "cells": [
  {
   "cell_type": "markdown",
   "id": "61432955",
   "metadata": {},
   "source": [
    "## Imports and IP"
   ]
  },
  {
   "cell_type": "code",
   "execution_count": 1,
   "id": "f061a665",
   "metadata": {},
   "outputs": [],
   "source": [
    "HOSTNAME = \"169.254.138.46\"\n",
    "from pyrpl import Pyrpl\n",
    "import numpy as np"
   ]
  },
  {
   "cell_type": "markdown",
   "id": "95850408",
   "metadata": {},
   "source": [
    "## Connect to RP:\n",
    "Select \"PID.yml\" in the file selector window and wait for GUI to come up before running next cell)"
   ]
  },
  {
   "cell_type": "code",
   "execution_count": 3,
   "id": "403c7698",
   "metadata": {
    "scrolled": true
   },
   "outputs": [
    {
     "name": "stderr",
     "output_type": "stream",
     "text": [
      "INFO:pyrpl:Please select or create a configuration file in the file selector window!\n",
      "INFO:pyrpl:All your PyRPL settings will be saved to the config file\n",
      "    C:\\Users\\wwlyn\\pyrpl_user_dir\\config\\082801.yml\n",
      "If you would like to restart PyRPL with these settings, type \"pyrpl.exe 082801\" in a windows terminal or \n",
      "    from pyrpl import Pyrpl\n",
      "    p = Pyrpl('082801')\n",
      "in a python terminal.\n",
      "INFO:pyrpl.redpitaya:Successfully connected to Redpitaya with hostname 169.254.138.46.\n"
     ]
    }
   ],
   "source": [
    "p = Pyrpl(hostname=HOSTNAME)"
   ]
  },
  {
   "cell_type": "markdown",
   "id": "f33e0295",
   "metadata": {},
   "source": [
    "## Calibration"
   ]
  },
  {
   "cell_type": "code",
   "execution_count": null,
   "id": "dcfef1cb",
   "metadata": {},
   "outputs": [],
   "source": [
    "# Not connected\n",
    "ZERO_IN1 = p.rp.scope.voltage_in1\n",
    "ZERO_IN1"
   ]
  },
  {
   "cell_type": "code",
   "execution_count": null,
   "id": "79ab703b",
   "metadata": {},
   "outputs": [],
   "source": [
    "# Give in1 0.5V, on LV mode\n",
    "HALF_IN1 = p.rp.scope.voltage_in1\n",
    "HALF_IN1"
   ]
  },
  {
   "cell_type": "code",
   "execution_count": null,
   "id": "d7ec2a4e",
   "metadata": {},
   "outputs": [],
   "source": [
    "# Not connected\n",
    "ZERO_IN2 = p.rp.scope.voltage_in2\n",
    "ZERO_IN2"
   ]
  },
  {
   "cell_type": "code",
   "execution_count": null,
   "id": "ba2ab633",
   "metadata": {},
   "outputs": [],
   "source": [
    "# Give in2 0.5V, on LV mode\n",
    "HALF_IN2 = p.rp.scope.voltage_in2\n",
    "HALF_IN2"
   ]
  }
 ],
 "metadata": {
  "kernelspec": {
   "display_name": "labscript-env",
   "language": "python",
   "name": "python3"
  },
  "language_info": {
   "codemirror_mode": {
    "name": "ipython",
    "version": 3
   },
   "file_extension": ".py",
   "mimetype": "text/x-python",
   "name": "python",
   "nbconvert_exporter": "python",
   "pygments_lexer": "ipython3",
   "version": "3.9.23"
  },
  "varInspector": {
   "cols": {
    "lenName": 16,
    "lenType": 16,
    "lenVar": 40
   },
   "kernels_config": {
    "python": {
     "delete_cmd_postfix": "",
     "delete_cmd_prefix": "del ",
     "library": "var_list.py",
     "varRefreshCmd": "print(var_dic_list())"
    },
    "r": {
     "delete_cmd_postfix": ") ",
     "delete_cmd_prefix": "rm(",
     "library": "var_list.r",
     "varRefreshCmd": "cat(var_dic_list()) "
    }
   },
   "types_to_exclude": [
    "module",
    "function",
    "builtin_function_or_method",
    "instance",
    "_Feature"
   ],
   "window_display": false
  }
 },
 "nbformat": 4,
 "nbformat_minor": 5
}
